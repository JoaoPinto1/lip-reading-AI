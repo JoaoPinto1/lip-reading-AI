{
 "cells": [
  {
   "cell_type": "code",
   "execution_count": 1,
   "metadata": {},
   "outputs": [
    {
     "name": "stderr",
     "output_type": "stream",
     "text": [
      "2023-10-30 18:55:00.303694: I tensorflow/core/util/port.cc:111] oneDNN custom operations are on. You may see slightly different numerical results due to floating-point round-off errors from different computation orders. To turn them off, set the environment variable `TF_ENABLE_ONEDNN_OPTS=0`.\n",
      "2023-10-30 18:55:00.565200: E tensorflow/compiler/xla/stream_executor/cuda/cuda_dnn.cc:9342] Unable to register cuDNN factory: Attempting to register factory for plugin cuDNN when one has already been registered\n",
      "2023-10-30 18:55:00.565226: E tensorflow/compiler/xla/stream_executor/cuda/cuda_fft.cc:609] Unable to register cuFFT factory: Attempting to register factory for plugin cuFFT when one has already been registered\n",
      "2023-10-30 18:55:00.566458: E tensorflow/compiler/xla/stream_executor/cuda/cuda_blas.cc:1518] Unable to register cuBLAS factory: Attempting to register factory for plugin cuBLAS when one has already been registered\n",
      "2023-10-30 18:55:00.674027: I tensorflow/core/platform/cpu_feature_guard.cc:182] This TensorFlow binary is optimized to use available CPU instructions in performance-critical operations.\n",
      "To enable the following instructions: AVX2 AVX_VNNI FMA, in other operations, rebuild TensorFlow with the appropriate compiler flags.\n"
     ]
    }
   ],
   "source": [
    "import numpy as np\n",
    "import pandas as pd\n",
    "import os\n",
    "import imutils\n",
    "import dlib\n",
    "import cv2\n",
    "import imageio\n",
    "from imutils import face_utils\n",
    "from skimage.transform import resize\n",
    "import time\n",
    "import tensorflow as tf\n",
    "from sklearn.utils import shuffle"
   ]
  },
  {
   "cell_type": "code",
   "execution_count": 2,
   "metadata": {},
   "outputs": [],
   "source": [
    "SLASH_TYPE = \"/\"\n",
    "BASE_DIR = \".\" + SLASH_TYPE"
   ]
  },
  {
   "cell_type": "code",
   "execution_count": 3,
   "metadata": {},
   "outputs": [
    {
     "data": {
      "text/plain": [
       "[]"
      ]
     },
     "execution_count": 3,
     "metadata": {},
     "output_type": "execute_result"
    }
   ],
   "source": [
    "gpus = tf.config.list_physical_devices('GPU')\n",
    "if gpus:\n",
    "    tf.config.experimental.set_memory_growth(gpus[0], enable=True)\n",
    "    tf.config.experimental.set_virtual_device_configuration(gpus[0], [tf.config.experimental.VirtualDeviceConfiguration(memory_limit=4000)])\n",
    "gpus"
   ]
  },
  {
   "cell_type": "code",
   "execution_count": 4,
   "metadata": {},
   "outputs": [],
   "source": [
    "def rect_to_bb(rect):\n",
    "    # take a bounding predicted by dlib and convert it\n",
    "    # to the format (x, y, w, h) as we would normally do\n",
    "    # with OpenCV\n",
    "    x = rect.left()\n",
    "    y = rect.top()\n",
    "    w = rect.right() - x\n",
    "    h = rect.bottom() - y\n",
    "\n",
    "    # return a tuple of (x, y, w, h)\n",
    "    return (x, y, w, h)\n",
    "\n",
    "def shape_to_np(shape, dtype=\"int\"):\n",
    "    # initialize the list of (x, y)-coordinates\n",
    "    coords = np.zeros((68, 2), dtype=dtype)\n",
    "\n",
    "    # loop over the 68 facial landmarks and convert them\n",
    "    # to a 2-tuple of (x, y)-coordinates\n",
    "    for i in range(0, 68):\n",
    "    \tcoords[i] = (shape.part(i).x, shape.part(i).y)\n",
    "\n",
    "    # return the list of (x, y)-coordinates\n",
    "    return coords\n"
   ]
  },
  {
   "cell_type": "code",
   "execution_count": 5,
   "metadata": {},
   "outputs": [],
   "source": [
    "def crop_and_save_image(img, img_path, write_img_path, img_name):\n",
    "    detector = dlib.get_frontal_face_detector()\n",
    "    predictor = dlib.shape_predictor(BASE_DIR + 'shape_predictor_68_face_landmarks.dat')\n",
    "    # load the input image, resize it, and convert it to grayscale\n",
    "\n",
    "    image = cv2.imread(img_path)\n",
    "    image = imutils.resize(image, width=500)\n",
    "    gray = cv2.cvtColor(image, cv2.COLOR_BGR2GRAY)\n",
    "\n",
    "    # detect faces in the grayscale image\n",
    "    rects = detector(gray, 1)\n",
    "    if len(rects) > 1:\n",
    "    \tprint( \"ERROR: more than one face detected\")\n",
    "    \treturn\n",
    "    if len(rects) < 1:\n",
    "    \tprint( \"ERROR: no faces detected\")\n",
    "    \treturn\n",
    "    # print(\"RECTS\", rects)\n",
    "    for (i, rect) in enumerate(rects):\n",
    "        shape = predictor(gray, rect)\n",
    "        shape = face_utils.shape_to_np(shape)\n",
    "        name, i, j = 'mouth', 48, 68\n",
    "        # clone = gray.copy()\n",
    "\n",
    "        (x, y, w, h) = cv2.boundingRect(np.array([shape[i:j]]))        \n",
    "        roi = gray[y:y+h, x:x+w]\n",
    "        roi = imutils.resize(roi, width = 250, inter=cv2.INTER_CUBIC)        \n",
    "        #print('cropped/' + write_img_path)\n",
    "        cv2.imwrite('cropped/' + write_img_path, roi)"
   ]
  },
  {
   "cell_type": "code",
   "execution_count": 6,
   "metadata": {},
   "outputs": [],
   "source": [
    "# people = ['F01']\n",
    "# data_types = ['words']\n",
    "# folder_enum = ['01']\n",
    "# instances = ['01']"
   ]
  },
  {
   "cell_type": "code",
   "execution_count": 18,
   "metadata": {},
   "outputs": [],
   "source": [
    "\n",
    "people = ['F01', 'F02', 'F04', 'F05', 'F06', 'F07', 'F08']\n",
    "data_types = ['words']\n",
    "folder_enum = ['01','02','03','04','05','06','07','08', '09', '10']\n",
    "instances = ['01','02','03','04','05','06','07','08', '09', '10']"
   ]
  },
  {
   "cell_type": "code",
   "execution_count": 8,
   "metadata": {},
   "outputs": [],
   "source": [
    "# people = ['F01','F02','F04','F05','F06','F07','F08','F09', 'F10','F11','M01','M02','M04','M07','M08']\n",
    "# data_types = ['words']\n",
    "# folder_enum = ['01','02','03','04','05','06','07','08', '09', '10']\n",
    "# instances = ['01','02','03','04','05','06','07','08', '09', '10']"
   ]
  },
  {
   "cell_type": "code",
   "execution_count": 73,
   "metadata": {},
   "outputs": [],
   "source": [
    "words = ['Begin', 'Choose', 'Connection', 'Navigation', 'Next', 'Previous', 'Start', 'Stop', 'Hello', 'Web']          \n",
    "words_di = {i:words[i] for i in range(len(words))}"
   ]
  },
  {
   "cell_type": "code",
   "execution_count": 10,
   "metadata": {},
   "outputs": [],
   "source": [
    "def crop_one_person():      \n",
    "    if not os.path.exists('cropped'):\n",
    "        os.mkdir('cropped')\n",
    "    # people = ['F01']\n",
    "    # data_types = ['words']\n",
    "    # folder_enum = ['01']\n",
    "    # instances = ['01']\n",
    "\n",
    "    i = 1\n",
    "    for person_ID in people:\n",
    "        if not os.path.exists('cropped/' + person_ID ):\n",
    "            os.mkdir('cropped/' + person_ID + '/')\n",
    "\n",
    "        for data_type in data_types:\n",
    "            if not os.path.exists('cropped/' + person_ID + '/' + data_type):\n",
    "                os.mkdir('cropped/' + person_ID + '/' + data_type)\n",
    "\n",
    "            for phrase_ID in folder_enum:\n",
    "                if not os.path.exists('cropped/' + person_ID + '/' + data_type + '/' + phrase_ID):\n",
    "                    # F01/phrases/01\n",
    "                    os.mkdir('cropped/' + person_ID + '/' + data_type + '/' + phrase_ID)\n",
    "\n",
    "                for instance_ID in instances:\n",
    "                    # F01/phrases/01/01\n",
    "                    directory = BASE_DIR + 'dataset/' + person_ID + '/' + data_type + '/' + phrase_ID + '/' + instance_ID + '/'\n",
    "                    dir_temp = person_ID + '/' + data_type + '/' + phrase_ID + '/' + instance_ID + '/'\n",
    "                    print(directory)\n",
    "                    filelist = os.listdir(directory)\n",
    "                    if not os.path.exists('cropped/' + person_ID + '/' + data_type + '/' + phrase_ID + '/' + instance_ID):\n",
    "                        os.mkdir('cropped/' + person_ID + '/' + data_type + '/' + phrase_ID + '/' + instance_ID)\n",
    "\n",
    "                        for img_name in filelist:\n",
    "                            if img_name.startswith('color'):\n",
    "                                image = imageio.imread(directory + '' + img_name)\n",
    "                                crop_and_save_image(image, directory + '' + img_name,\n",
    "                                                    dir_temp + '' + img_name, img_name)\n",
    "\n",
    "    print(f'Iteration : {i}')\n",
    "    i += 1"
   ]
  },
  {
   "cell_type": "code",
   "execution_count": 11,
   "metadata": {},
   "outputs": [],
   "source": [
    "# import time\n",
    "\n",
    "# total_it = 1\n",
    "\n",
    "# times = 0\n",
    "# for _ in range(total_it):\n",
    "#     t1 = time.time()\n",
    "#     crop_one_person()\n",
    "#     t2 = time.time()\n",
    "#     times += (t2 - t1)\n",
    "\n",
    "# print(f\"Average time over {total_it} iterations : \", times/total_it)"
   ]
  },
  {
   "cell_type": "code",
   "execution_count": 24,
   "metadata": {},
   "outputs": [],
   "source": [
    "max_seq_length = 22\n",
    "\n",
    "X_train = []\n",
    "y_train = []\n",
    "X_val = []\n",
    "y_val = []\n",
    "X_test = []\n",
    "y_test = []\n",
    "\n",
    "\n",
    "MAX_WIDTH = 100\n",
    "MAX_HEIGHT = 100"
   ]
  },
  {
   "cell_type": "code",
   "execution_count": null,
   "metadata": {},
   "outputs": [],
   "source": [
    "t1 = time.time()\n",
    "# UNSEEN_VALIDATION_SPLIT = ['F07', 'M02']\n",
    "# UNSEEN_TEST_SPLIT = ['F04']\n",
    "UNSEEN_VALIDATION_SPLIT = ['F07']\n",
    "UNSEEN_TEST_SPLIT = ['F08']\n",
    "\n",
    "\n",
    "directory = BASE_DIR + \"cropped\"\n",
    "\n",
    "for person_id in people:\n",
    "    tx1 = time.time()\n",
    "    for data_type in data_types:\n",
    "        for word_index, word in enumerate(folder_enum):\n",
    "#             print(f\"Word : '{words[word_index]}'\")\n",
    "            for iteration in instances:\n",
    "                path = os.path.join(directory, person_id, data_type, word, iteration)\n",
    "                filelist = sorted(os.listdir(path + SLASH_TYPE))\n",
    "                sequence = [] \n",
    "                for img_name in filelist:\n",
    "                    if img_name.startswith('color'):\n",
    "                        image = imageio.imread(path + SLASH_TYPE + img_name)\n",
    "                        image = resize(image, (MAX_WIDTH, MAX_HEIGHT))\n",
    "                        image = 255 * image\n",
    "                        # Convert to integer data type pixels.\n",
    "                        image = image.astype(np.uint8)\n",
    "                        sequence.append(image)                        \n",
    "                pad_array = [np.zeros((MAX_WIDTH, MAX_HEIGHT))]                            \n",
    "                sequence.extend(pad_array * (max_seq_length - len(sequence)))\n",
    "                sequence = np.array(sequence)\n",
    "                if person_id in UNSEEN_TEST_SPLIT:\n",
    "                    X_test.append(sequence)\n",
    "                    y_test.append(word_index)\n",
    "                elif person_id in UNSEEN_VALIDATION_SPLIT:\n",
    "                    X_val.append(sequence)\n",
    "                    y_val.append(word_index)\n",
    "                else:\n",
    "                    X_train.append(sequence)\n",
    "                    y_train.append(word_index)    \n",
    "    tx2 = time.time()\n",
    "    print(f'Finished reading images for person {person_id}. Time taken : {tx2 - tx1} secs.')\n",
    "    \n",
    "t2 = time.time()\n",
    "print(f\"Time taken for creating constant size 3D Tensors from those cropped lip regions : {t2 - t1} secs.\")"
   ]
  },
  {
   "cell_type": "code",
   "execution_count": 14,
   "metadata": {},
   "outputs": [
    {
     "name": "stdout",
     "output_type": "stream",
     "text": [
      "(500, 22, 100, 100)\n",
      "(100, 22, 100, 100)\n",
      "(100, 22, 100, 100)\n"
     ]
    }
   ],
   "source": [
    "X_train = np.array(X_train)\n",
    "X_val = np.array(X_val)\n",
    "X_test = np.array(X_test)\n",
    "print(X_train.shape)\n",
    "print(X_val.shape)\n",
    "print(X_test.shape)"
   ]
  },
  {
   "cell_type": "code",
   "execution_count": 15,
   "metadata": {},
   "outputs": [
    {
     "name": "stdout",
     "output_type": "stream",
     "text": [
      "(500,)\n",
      "(100,)\n",
      "(100,)\n"
     ]
    }
   ],
   "source": [
    "y_train = np.array(y_train)\n",
    "y_val = np.array(y_val)\n",
    "y_test = np.array(y_test)\n",
    "print(y_train.shape)\n",
    "print(y_val.shape)\n",
    "print(y_test.shape)"
   ]
  },
  {
   "cell_type": "code",
   "execution_count": 29,
   "metadata": {},
   "outputs": [],
   "source": [
    "def normalize_it(X):\n",
    "    v_min = X.min(axis=(2, 3), keepdims=True)\n",
    "    v_max = X.max(axis=(2, 3), keepdims=True)\n",
    "    X = (X - v_min)/(v_max - v_min)\n",
    "    X = np.nan_to_num(X)\n",
    "    return X"
   ]
  },
  {
   "cell_type": "code",
   "execution_count": null,
   "metadata": {},
   "outputs": [],
   "source": [
    "X_train = normalize_it(X_train)\n",
    "X_val = normalize_it(X_val)\n",
    "X_test = normalize_it(X_test)"
   ]
  },
  {
   "cell_type": "code",
   "execution_count": null,
   "metadata": {},
   "outputs": [],
   "source": [
    "train_val_test = np.array([X_train, X_val, X_test, y_train, y_val, y_test])\n",
    "with open(\"train_val_test.npy\", \"wb\") as f:\n",
    "    np.save(f, train_val_test)"
   ]
  },
  {
   "cell_type": "code",
   "execution_count": 5,
   "metadata": {},
   "outputs": [],
   "source": [
    "with open(\"train_val_test.npy\", \"rb\") as f:\n",
    "    train_val_test = np.load(f, allow_pickle=True)"
   ]
  },
  {
   "cell_type": "code",
   "execution_count": 6,
   "metadata": {},
   "outputs": [],
   "source": [
    "X_train, X_val, X_test, y_train, y_val, y_test = train_val_test"
   ]
  },
  {
   "cell_type": "code",
   "execution_count": 7,
   "metadata": {},
   "outputs": [],
   "source": [
    "from keras import backend"
   ]
  },
  {
   "cell_type": "code",
   "execution_count": 8,
   "metadata": {},
   "outputs": [],
   "source": [
    "y_train = tf.keras.utils.to_categorical(y_train, 10)\n",
    "y_test = tf.keras.utils.to_categorical(y_test, 10)\n",
    "y_val = tf.keras.utils.to_categorical(y_val, 10)\n",
    "\n",
    "X_train, y_train = shuffle(X_train, y_train, random_state=0)\n",
    "X_test, y_test = shuffle(X_test, y_test, random_state=0)\n",
    "X_val, y_val = shuffle(X_val, y_val, random_state=0)"
   ]
  },
  {
   "cell_type": "code",
   "execution_count": 9,
   "metadata": {},
   "outputs": [
    {
     "name": "stdout",
     "output_type": "stream",
     "text": [
      "(700, 22, 100, 100, 1)\n",
      "(100, 22, 100, 100, 1)\n",
      "(100, 22, 100, 100, 1)\n"
     ]
    }
   ],
   "source": [
    "X_train = np.expand_dims(X_train, axis=4)\n",
    "X_val = np.expand_dims(X_val, axis=4)\n",
    "X_test = np.expand_dims(X_test, axis=4)\n",
    "print(X_train.shape)\n",
    "print(X_val.shape)\n",
    "print(X_test.shape)"
   ]
  },
  {
   "cell_type": "code",
   "execution_count": 17,
   "metadata": {},
   "outputs": [],
   "source": [
    "from keras.layers import Conv3D, MaxPooling3D\n",
    "from keras.layers import Dense, Dropout, Flatten\n",
    "from keras.models import Sequential\n",
    "from keras.layers import Activation, ZeroPadding3D, TimeDistributed, LSTM, GRU, Reshape\n",
    "from keras.utils import plot_model\n",
    "from keras.layers import BatchNormalization\n",
    "import matplotlib.pyplot as plt"
   ]
  },
  {
   "cell_type": "code",
   "execution_count": 18,
   "metadata": {},
   "outputs": [
    {
     "name": "stdout",
     "output_type": "stream",
     "text": [
      "Model: \"sequential\"\n",
      "_________________________________________________________________\n",
      " Layer (type)                Output Shape              Param #   \n",
      "=================================================================\n",
      " conv3d (Conv3D)             (None, 20, 98, 98, 64)    1792      \n",
      "                                                                 \n",
      " max_pooling3d (MaxPooling3  (None, 10, 49, 49, 64)    0         \n",
      " D)                                                              \n",
      "                                                                 \n",
      " conv3d_1 (Conv3D)           (None, 8, 47, 47, 128)    221312    \n",
      "                                                                 \n",
      " max_pooling3d_1 (MaxPoolin  (None, 4, 23, 23, 128)    0         \n",
      " g3D)                                                            \n",
      "                                                                 \n",
      " conv3d_2 (Conv3D)           (None, 3, 22, 22, 256)    262400    \n",
      "                                                                 \n",
      " max_pooling3d_2 (MaxPoolin  (None, 1, 11, 11, 256)    0         \n",
      " g3D)                                                            \n",
      "                                                                 \n",
      " flatten (Flatten)           (None, 30976)             0         \n",
      "                                                                 \n",
      " dense (Dense)               (None, 4096)              126881792 \n",
      "                                                                 \n",
      " dropout (Dropout)           (None, 4096)              0         \n",
      "                                                                 \n",
      " dense_1 (Dense)             (None, 2048)              8390656   \n",
      "                                                                 \n",
      " dropout_1 (Dropout)         (None, 2048)              0         \n",
      "                                                                 \n",
      " dense_2 (Dense)             (None, 10)                20490     \n",
      "                                                                 \n",
      "=================================================================\n",
      "Total params: 135778442 (517.95 MB)\n",
      "Trainable params: 135778442 (517.95 MB)\n",
      "Non-trainable params: 0 (0.00 Byte)\n",
      "_________________________________________________________________\n"
     ]
    },
    {
     "name": "stderr",
     "output_type": "stream",
     "text": [
      "2023-10-30 19:14:48.815459: I tensorflow/compiler/xla/stream_executor/cuda/cuda_gpu_executor.cc:880] could not open file to read NUMA node: /sys/bus/pci/devices/0000:01:00.0/numa_node\n",
      "Your kernel may have been built without NUMA support.\n",
      "2023-10-30 19:14:48.846309: I tensorflow/compiler/xla/stream_executor/cuda/cuda_gpu_executor.cc:880] could not open file to read NUMA node: /sys/bus/pci/devices/0000:01:00.0/numa_node\n",
      "Your kernel may have been built without NUMA support.\n",
      "2023-10-30 19:14:48.846343: I tensorflow/compiler/xla/stream_executor/cuda/cuda_gpu_executor.cc:880] could not open file to read NUMA node: /sys/bus/pci/devices/0000:01:00.0/numa_node\n",
      "Your kernel may have been built without NUMA support.\n",
      "2023-10-30 19:14:48.848610: I tensorflow/compiler/xla/stream_executor/cuda/cuda_gpu_executor.cc:880] could not open file to read NUMA node: /sys/bus/pci/devices/0000:01:00.0/numa_node\n",
      "Your kernel may have been built without NUMA support.\n",
      "2023-10-30 19:14:48.848646: I tensorflow/compiler/xla/stream_executor/cuda/cuda_gpu_executor.cc:880] could not open file to read NUMA node: /sys/bus/pci/devices/0000:01:00.0/numa_node\n",
      "Your kernel may have been built without NUMA support.\n",
      "2023-10-30 19:14:48.848660: I tensorflow/compiler/xla/stream_executor/cuda/cuda_gpu_executor.cc:880] could not open file to read NUMA node: /sys/bus/pci/devices/0000:01:00.0/numa_node\n",
      "Your kernel may have been built without NUMA support.\n",
      "2023-10-30 19:14:49.027519: I tensorflow/compiler/xla/stream_executor/cuda/cuda_gpu_executor.cc:880] could not open file to read NUMA node: /sys/bus/pci/devices/0000:01:00.0/numa_node\n",
      "Your kernel may have been built without NUMA support.\n",
      "2023-10-30 19:14:49.027565: I tensorflow/compiler/xla/stream_executor/cuda/cuda_gpu_executor.cc:880] could not open file to read NUMA node: /sys/bus/pci/devices/0000:01:00.0/numa_node\n",
      "Your kernel may have been built without NUMA support.\n",
      "2023-10-30 19:14:49.027572: I tensorflow/core/common_runtime/gpu/gpu_device.cc:1977] Could not identify NUMA node of platform GPU id 0, defaulting to 0.  Your kernel may not have been built with NUMA support.\n",
      "2023-10-30 19:14:49.027597: I tensorflow/compiler/xla/stream_executor/cuda/cuda_gpu_executor.cc:880] could not open file to read NUMA node: /sys/bus/pci/devices/0000:01:00.0/numa_node\n",
      "Your kernel may have been built without NUMA support.\n",
      "2023-10-30 19:14:49.027615: I tensorflow/core/common_runtime/gpu/gpu_device.cc:1886] Created device /job:localhost/replica:0/task:0/device:GPU:0 with 5595 MB memory:  -> device: 0, name: NVIDIA GeForce RTX 3070 Laptop GPU, pci bus id: 0000:01:00.0, compute capability: 8.6\n"
     ]
    }
   ],
   "source": [
    "model = Sequential()\n",
    "\n",
    "# 1st layer group\n",
    "model.add(Conv3D(64, (3, 3, 3), strides = 1, input_shape=(22, 100, 100, 1), activation='relu', padding='valid'))\n",
    "model.add(MaxPooling3D(pool_size=(2, 2, 2), strides=2))\n",
    "\n",
    "model.add(Conv3D(128, (3, 3, 3), activation='relu', strides=1))\n",
    "model.add(MaxPooling3D(pool_size=(2, 2, 2), strides=2))\n",
    "\n",
    "model.add(Conv3D(256, (2, 2, 2), activation='relu', strides=1))\n",
    "model.add(MaxPooling3D(pool_size=(2, 2, 2), strides=2))\n",
    "\n",
    "model.add((Flatten()))\n",
    "\n",
    "# # FC layers group\n",
    "model.add(Dense(4096, activation='relu'))\n",
    "model.add(Dropout(.5))\n",
    "model.add(Dense(2048, activation='relu'))\n",
    "model.add(Dropout(.5))\n",
    "\n",
    "model.add(Dense(10, activation='softmax'))\n",
    "\n",
    "model.compile(loss='categorical_crossentropy', optimizer='Adagrad', metrics=['accuracy'])\n",
    "model.summary()"
   ]
  },
  {
   "cell_type": "code",
   "execution_count": 20,
   "metadata": {},
   "outputs": [],
   "source": [
    "tf.device('/gpu:0')\n",
    "checkpoint_path = BASE_DIR + \"checkpoints/cp.ckpt\"\n",
    "checkpoint_dir = os.path.dirname(checkpoint_path)\n",
    "cp_callback = tf.keras.callbacks.ModelCheckpoint(filepath=checkpoint_path, save_weights_only=True, verbose=1)"
   ]
  },
  {
   "cell_type": "code",
   "execution_count": 17,
   "metadata": {},
   "outputs": [
    {
     "name": "stdout",
     "output_type": "stream",
     "text": [
      "Epoch 1/40\n"
     ]
    },
    {
     "name": "stderr",
     "output_type": "stream",
     "text": [
      "2023-10-30 15:54:57.363491: I tensorflow/compiler/xla/stream_executor/cuda/cuda_dnn.cc:442] Loaded cuDNN version 8700\n",
      "2023-10-30 15:54:57.865371: I tensorflow/tsl/platform/default/subprocess.cc:304] Start cannot spawn child process: No such file or directory\n",
      "2023-10-30 15:54:58.618597: I tensorflow/tsl/platform/default/subprocess.cc:304] Start cannot spawn child process: No such file or directory\n",
      "2023-10-30 15:54:59.466367: I tensorflow/compiler/xla/service/service.cc:168] XLA service 0x7f23d2bfef10 initialized for platform CUDA (this does not guarantee that XLA will be used). Devices:\n",
      "2023-10-30 15:54:59.466409: I tensorflow/compiler/xla/service/service.cc:176]   StreamExecutor device (0): NVIDIA GeForce RTX 3070 Laptop GPU, Compute Capability 8.6\n",
      "2023-10-30 15:54:59.472024: I tensorflow/compiler/mlir/tensorflow/utils/dump_mlir_util.cc:269] disabling MLIR crash reproducer, set env var `MLIR_CRASH_REPRODUCER_DIRECTORY` to enable.\n",
      "2023-10-30 15:54:59.550080: I ./tensorflow/compiler/jit/device_compiler.h:186] Compiled cluster using XLA!  This line is logged at most once for the lifetime of the process.\n"
     ]
    },
    {
     "name": "stdout",
     "output_type": "stream",
     "text": [
      "175/175 [==============================] - ETA: 0s - loss: 2.3058 - accuracy: 0.0786\n",
      "Epoch 1: saving model to ./checkpoints/cp.ckpt\n",
      "175/175 [==============================] - 19s 90ms/step - loss: 2.3058 - accuracy: 0.0786 - val_loss: 2.3010 - val_accuracy: 0.1300\n",
      "Epoch 2/40\n",
      "175/175 [==============================] - ETA: 0s - loss: 2.2972 - accuracy: 0.0971\n",
      "Epoch 2: saving model to ./checkpoints/cp.ckpt\n",
      "175/175 [==============================] - 15s 83ms/step - loss: 2.2972 - accuracy: 0.0971 - val_loss: 2.2979 - val_accuracy: 0.1100\n",
      "Epoch 3/40\n",
      "175/175 [==============================] - ETA: 0s - loss: 2.2868 - accuracy: 0.1586\n",
      "Epoch 3: saving model to ./checkpoints/cp.ckpt\n",
      "175/175 [==============================] - 15s 83ms/step - loss: 2.2868 - accuracy: 0.1586 - val_loss: 2.2937 - val_accuracy: 0.1200\n",
      "Epoch 4/40\n",
      "175/175 [==============================] - ETA: 0s - loss: 2.2781 - accuracy: 0.1500\n",
      "Epoch 4: saving model to ./checkpoints/cp.ckpt\n",
      "175/175 [==============================] - 14s 82ms/step - loss: 2.2781 - accuracy: 0.1500 - val_loss: 2.2837 - val_accuracy: 0.1000\n",
      "Epoch 5/40\n",
      "175/175 [==============================] - ETA: 0s - loss: 2.2491 - accuracy: 0.1914\n",
      "Epoch 5: saving model to ./checkpoints/cp.ckpt\n",
      "175/175 [==============================] - 15s 82ms/step - loss: 2.2491 - accuracy: 0.1914 - val_loss: 2.2745 - val_accuracy: 0.1100\n",
      "Epoch 6/40\n",
      "175/175 [==============================] - ETA: 0s - loss: 2.2306 - accuracy: 0.1586\n",
      "Epoch 6: saving model to ./checkpoints/cp.ckpt\n",
      "175/175 [==============================] - 15s 88ms/step - loss: 2.2306 - accuracy: 0.1586 - val_loss: 2.2521 - val_accuracy: 0.1100\n",
      "Epoch 7/40\n",
      "175/175 [==============================] - ETA: 0s - loss: 2.2038 - accuracy: 0.2114\n",
      "Epoch 7: saving model to ./checkpoints/cp.ckpt\n",
      "175/175 [==============================] - 15s 83ms/step - loss: 2.2038 - accuracy: 0.2114 - val_loss: 2.2292 - val_accuracy: 0.1200\n",
      "Epoch 8/40\n",
      "175/175 [==============================] - ETA: 0s - loss: 2.1663 - accuracy: 0.1957\n",
      "Epoch 8: saving model to ./checkpoints/cp.ckpt\n",
      "175/175 [==============================] - 15s 83ms/step - loss: 2.1663 - accuracy: 0.1957 - val_loss: 2.1662 - val_accuracy: 0.2300\n",
      "Epoch 9/40\n",
      "175/175 [==============================] - ETA: 0s - loss: 2.1031 - accuracy: 0.2329\n",
      "Epoch 9: saving model to ./checkpoints/cp.ckpt\n",
      "175/175 [==============================] - 14s 79ms/step - loss: 2.1031 - accuracy: 0.2329 - val_loss: 2.1388 - val_accuracy: 0.1400\n",
      "Epoch 10/40\n",
      "175/175 [==============================] - ETA: 0s - loss: 2.0399 - accuracy: 0.2657\n",
      "Epoch 10: saving model to ./checkpoints/cp.ckpt\n",
      "175/175 [==============================] - 14s 82ms/step - loss: 2.0399 - accuracy: 0.2657 - val_loss: 2.1246 - val_accuracy: 0.1900\n",
      "Epoch 11/40\n",
      "175/175 [==============================] - ETA: 0s - loss: 2.0092 - accuracy: 0.2829\n",
      "Epoch 11: saving model to ./checkpoints/cp.ckpt\n",
      "175/175 [==============================] - 16s 91ms/step - loss: 2.0092 - accuracy: 0.2829 - val_loss: 2.0544 - val_accuracy: 0.2100\n",
      "Epoch 12/40\n",
      "175/175 [==============================] - ETA: 0s - loss: 1.9156 - accuracy: 0.3071\n",
      "Epoch 12: saving model to ./checkpoints/cp.ckpt\n",
      "175/175 [==============================] - 17s 94ms/step - loss: 1.9156 - accuracy: 0.3071 - val_loss: 1.9889 - val_accuracy: 0.2500\n",
      "Epoch 13/40\n",
      "175/175 [==============================] - ETA: 0s - loss: 1.8609 - accuracy: 0.3271\n",
      "Epoch 13: saving model to ./checkpoints/cp.ckpt\n",
      "175/175 [==============================] - 16s 88ms/step - loss: 1.8609 - accuracy: 0.3271 - val_loss: 1.9658 - val_accuracy: 0.2400\n",
      "Epoch 14/40\n",
      "175/175 [==============================] - ETA: 0s - loss: 1.7375 - accuracy: 0.3700\n",
      "Epoch 14: saving model to ./checkpoints/cp.ckpt\n",
      "175/175 [==============================] - 14s 81ms/step - loss: 1.7375 - accuracy: 0.3700 - val_loss: 2.0163 - val_accuracy: 0.1800\n",
      "Epoch 15/40\n",
      "175/175 [==============================] - ETA: 0s - loss: 1.6614 - accuracy: 0.4000\n",
      "Epoch 15: saving model to ./checkpoints/cp.ckpt\n",
      "175/175 [==============================] - 15s 85ms/step - loss: 1.6614 - accuracy: 0.4000 - val_loss: 1.8716 - val_accuracy: 0.2900\n",
      "Epoch 16/40\n",
      "175/175 [==============================] - ETA: 0s - loss: 1.5760 - accuracy: 0.4229\n",
      "Epoch 16: saving model to ./checkpoints/cp.ckpt\n",
      "175/175 [==============================] - 17s 94ms/step - loss: 1.5760 - accuracy: 0.4229 - val_loss: 1.7880 - val_accuracy: 0.3100\n",
      "Epoch 17/40\n",
      "175/175 [==============================] - ETA: 0s - loss: 1.4496 - accuracy: 0.4871\n",
      "Epoch 17: saving model to ./checkpoints/cp.ckpt\n",
      "175/175 [==============================] - 16s 90ms/step - loss: 1.4496 - accuracy: 0.4871 - val_loss: 1.8873 - val_accuracy: 0.2800\n",
      "Epoch 18/40\n",
      "175/175 [==============================] - ETA: 0s - loss: 1.3156 - accuracy: 0.5300\n",
      "Epoch 18: saving model to ./checkpoints/cp.ckpt\n",
      "175/175 [==============================] - 16s 90ms/step - loss: 1.3156 - accuracy: 0.5300 - val_loss: 1.9870 - val_accuracy: 0.1500\n",
      "Epoch 19/40\n",
      "175/175 [==============================] - ETA: 0s - loss: 1.2187 - accuracy: 0.5743\n",
      "Epoch 19: saving model to ./checkpoints/cp.ckpt\n",
      "175/175 [==============================] - 16s 89ms/step - loss: 1.2187 - accuracy: 0.5743 - val_loss: 1.8886 - val_accuracy: 0.3400\n",
      "Epoch 20/40\n",
      "175/175 [==============================] - ETA: 0s - loss: 1.1509 - accuracy: 0.6029\n",
      "Epoch 20: saving model to ./checkpoints/cp.ckpt\n",
      "175/175 [==============================] - 16s 90ms/step - loss: 1.1509 - accuracy: 0.6029 - val_loss: 2.1393 - val_accuracy: 0.2400\n",
      "Epoch 21/40\n",
      "175/175 [==============================] - ETA: 0s - loss: 1.0113 - accuracy: 0.6586\n",
      "Epoch 21: saving model to ./checkpoints/cp.ckpt\n",
      "175/175 [==============================] - 14s 79ms/step - loss: 1.0113 - accuracy: 0.6586 - val_loss: 1.8587 - val_accuracy: 0.3500\n",
      "Epoch 22/40\n",
      "175/175 [==============================] - ETA: 0s - loss: 0.9264 - accuracy: 0.6800\n",
      "Epoch 22: saving model to ./checkpoints/cp.ckpt\n",
      "175/175 [==============================] - 15s 88ms/step - loss: 0.9264 - accuracy: 0.6800 - val_loss: 1.8547 - val_accuracy: 0.2800\n",
      "Epoch 23/40\n",
      "175/175 [==============================] - ETA: 0s - loss: 0.8651 - accuracy: 0.7214\n",
      "Epoch 23: saving model to ./checkpoints/cp.ckpt\n",
      "175/175 [==============================] - 15s 85ms/step - loss: 0.8651 - accuracy: 0.7214 - val_loss: 1.8383 - val_accuracy: 0.3000\n",
      "Epoch 24/40\n",
      "175/175 [==============================] - ETA: 0s - loss: 0.8070 - accuracy: 0.7414\n",
      "Epoch 24: saving model to ./checkpoints/cp.ckpt\n",
      "175/175 [==============================] - 15s 85ms/step - loss: 0.8070 - accuracy: 0.7414 - val_loss: 1.7745 - val_accuracy: 0.3800\n",
      "Epoch 25/40\n",
      "175/175 [==============================] - ETA: 0s - loss: 0.7072 - accuracy: 0.7629\n",
      "Epoch 25: saving model to ./checkpoints/cp.ckpt\n",
      "175/175 [==============================] - 15s 84ms/step - loss: 0.7072 - accuracy: 0.7629 - val_loss: 1.7765 - val_accuracy: 0.3600\n",
      "Epoch 26/40\n",
      "175/175 [==============================] - ETA: 0s - loss: 0.6590 - accuracy: 0.7814\n",
      "Epoch 26: saving model to ./checkpoints/cp.ckpt\n",
      "175/175 [==============================] - 15s 87ms/step - loss: 0.6590 - accuracy: 0.7814 - val_loss: 1.8445 - val_accuracy: 0.3200\n",
      "Epoch 27/40\n",
      "175/175 [==============================] - ETA: 0s - loss: 0.6217 - accuracy: 0.7957\n",
      "Epoch 27: saving model to ./checkpoints/cp.ckpt\n",
      "175/175 [==============================] - 16s 91ms/step - loss: 0.6217 - accuracy: 0.7957 - val_loss: 1.7417 - val_accuracy: 0.3900\n",
      "Epoch 28/40\n",
      "175/175 [==============================] - ETA: 0s - loss: 0.5808 - accuracy: 0.8071\n",
      "Epoch 28: saving model to ./checkpoints/cp.ckpt\n",
      "175/175 [==============================] - 15s 84ms/step - loss: 0.5808 - accuracy: 0.8071 - val_loss: 1.8745 - val_accuracy: 0.3700\n",
      "Epoch 29/40\n",
      "175/175 [==============================] - ETA: 0s - loss: 0.5505 - accuracy: 0.8157\n",
      "Epoch 29: saving model to ./checkpoints/cp.ckpt\n",
      "175/175 [==============================] - 16s 92ms/step - loss: 0.5505 - accuracy: 0.8157 - val_loss: 2.0742 - val_accuracy: 0.3300\n",
      "Epoch 30/40\n",
      "175/175 [==============================] - ETA: 0s - loss: 0.5200 - accuracy: 0.8171\n",
      "Epoch 30: saving model to ./checkpoints/cp.ckpt\n",
      "175/175 [==============================] - 15s 83ms/step - loss: 0.5200 - accuracy: 0.8171 - val_loss: 1.7761 - val_accuracy: 0.3700\n",
      "Epoch 31/40\n",
      "175/175 [==============================] - ETA: 0s - loss: 0.4593 - accuracy: 0.8414\n",
      "Epoch 31: saving model to ./checkpoints/cp.ckpt\n",
      "175/175 [==============================] - 17s 93ms/step - loss: 0.4593 - accuracy: 0.8414 - val_loss: 2.1997 - val_accuracy: 0.3700\n",
      "Epoch 32/40\n",
      "175/175 [==============================] - ETA: 0s - loss: 0.4303 - accuracy: 0.8514\n",
      "Epoch 32: saving model to ./checkpoints/cp.ckpt\n",
      "175/175 [==============================] - 16s 90ms/step - loss: 0.4303 - accuracy: 0.8514 - val_loss: 2.4411 - val_accuracy: 0.2900\n",
      "Epoch 33/40\n",
      "175/175 [==============================] - ETA: 0s - loss: 0.4139 - accuracy: 0.8757\n",
      "Epoch 33: saving model to ./checkpoints/cp.ckpt\n",
      "175/175 [==============================] - 17s 94ms/step - loss: 0.4139 - accuracy: 0.8757 - val_loss: 2.3057 - val_accuracy: 0.3600\n",
      "Epoch 34/40\n",
      "175/175 [==============================] - ETA: 0s - loss: 0.3674 - accuracy: 0.8700\n",
      "Epoch 34: saving model to ./checkpoints/cp.ckpt\n",
      "175/175 [==============================] - 14s 81ms/step - loss: 0.3674 - accuracy: 0.8700 - val_loss: 2.6549 - val_accuracy: 0.3000\n",
      "Epoch 35/40\n",
      "175/175 [==============================] - ETA: 0s - loss: 0.3558 - accuracy: 0.8814\n",
      "Epoch 35: saving model to ./checkpoints/cp.ckpt\n",
      "175/175 [==============================] - 16s 90ms/step - loss: 0.3558 - accuracy: 0.8814 - val_loss: 2.3343 - val_accuracy: 0.3500\n",
      "Epoch 36/40\n",
      "175/175 [==============================] - ETA: 0s - loss: 0.3444 - accuracy: 0.8629\n",
      "Epoch 36: saving model to ./checkpoints/cp.ckpt\n",
      "175/175 [==============================] - 15s 83ms/step - loss: 0.3444 - accuracy: 0.8629 - val_loss: 2.7473 - val_accuracy: 0.3200\n",
      "Epoch 37/40\n",
      "175/175 [==============================] - ETA: 0s - loss: 0.2872 - accuracy: 0.9171\n",
      "Epoch 37: saving model to ./checkpoints/cp.ckpt\n",
      "175/175 [==============================] - 15s 84ms/step - loss: 0.2872 - accuracy: 0.9171 - val_loss: 2.3148 - val_accuracy: 0.3900\n",
      "Epoch 38/40\n",
      "175/175 [==============================] - ETA: 0s - loss: 0.2637 - accuracy: 0.9157\n",
      "Epoch 38: saving model to ./checkpoints/cp.ckpt\n",
      "175/175 [==============================] - 14s 80ms/step - loss: 0.2637 - accuracy: 0.9157 - val_loss: 2.3547 - val_accuracy: 0.3800\n",
      "Epoch 39/40\n",
      "175/175 [==============================] - ETA: 0s - loss: 0.2661 - accuracy: 0.9186\n",
      "Epoch 39: saving model to ./checkpoints/cp.ckpt\n",
      "175/175 [==============================] - 17s 95ms/step - loss: 0.2661 - accuracy: 0.9186 - val_loss: 2.4888 - val_accuracy: 0.3200\n",
      "Epoch 40/40\n",
      "175/175 [==============================] - ETA: 0s - loss: 0.2348 - accuracy: 0.9257\n",
      "Epoch 40: saving model to ./checkpoints/cp.ckpt\n",
      "175/175 [==============================] - 14s 80ms/step - loss: 0.2348 - accuracy: 0.9257 - val_loss: 2.8360 - val_accuracy: 0.3300\n",
      "\n",
      "Training time : 614.9355630874634 secs.\n"
     ]
    }
   ],
   "source": [
    "with tf.device('/gpu:0'):\n",
    "    t1 = time.time()\n",
    "    # EARLY STOPPING\n",
    "    history = model.fit(X_train, y_train, validation_data=(X_val, y_val), epochs=40, batch_size=4, callbacks=[cp_callback])\n",
    "    t2 = time.time()\n",
    "    print()\n",
    "    print(f\"Training time : {t2 - t1} secs.\")"
   ]
  },
  {
   "cell_type": "code",
   "execution_count": 18,
   "metadata": {},
   "outputs": [
    {
     "data": {
      "image/png": "[encoded data removed]",
      "text/plain": [
       "<Figure size 640x480 with 1 Axes>"
      ]
     },
     "metadata": {},
     "output_type": "display_data"
    }
   ],
   "source": [
    "plt.plot(history.history['accuracy'])\n",
    "plt.plot(history.history['val_accuracy'])\n",
    "plt.title('Model accuracy')\n",
    "plt.ylabel('Accuracy')\n",
    "plt.xlabel('Epoch')\n",
    "plt.legend(['Train', 'Validation'], loc='upper left')\n",
    "plt.show()"
   ]
  },
  {
   "cell_type": "code",
   "execution_count": 22,
   "metadata": {},
   "outputs": [
    {
     "data": {
      "text/plain": [
       "<tensorflow.python.checkpoint.checkpoint.CheckpointLoadStatus at 0x7f589ffbfe80>"
      ]
     },
     "execution_count": 22,
     "metadata": {},
     "output_type": "execute_result"
    }
   ],
   "source": [
    "model.load_weights(checkpoint_path)"
   ]
  },
  {
   "cell_type": "code",
   "execution_count": null,
   "metadata": {},
   "outputs": [],
   "source": [
    "ypred = model.predict(X_test, batch_size=4)"
   ]
  },
  {
   "cell_type": "code",
   "execution_count": 19,
   "metadata": {},
   "outputs": [],
   "source": [
    "predicted_words = [words[i] for i in np.argmax(ypred, axis=1)]\n",
    "actual_words = [words[i] for i in np.argmax(y_test, axis=1)] "
   ]
  },
  {
   "cell_type": "code",
   "execution_count": 20,
   "metadata": {},
   "outputs": [
    {
     "name": "stdout",
     "output_type": "stream",
     "text": [
      "Predicted : Connection \t Actual : Connection\n",
      "Predicted : Hello \t Actual : Hello\n",
      "Predicted : Hello \t Actual : Begin\n",
      "Predicted : Previous \t Actual : Previous\n",
      "Predicted : Choose \t Actual : Stop\n",
      "Predicted : Web \t Actual : Web\n",
      "Predicted : Choose \t Actual : Choose\n",
      "Predicted : Stop \t Actual : Stop\n",
      "Predicted : Hello \t Actual : Previous\n",
      "Predicted : Start \t Actual : Web\n",
      "Predicted : Hello \t Actual : Previous\n",
      "Predicted : Start \t Actual : Web\n",
      "Predicted : Stop \t Actual : Stop\n",
      "Predicted : Choose \t Actual : Choose\n",
      "Predicted : Hello \t Actual : Begin\n",
      "Predicted : Hello \t Actual : Navigation\n",
      "Predicted : Connection \t Actual : Connection\n",
      "Predicted : Choose \t Actual : Connection\n",
      "Predicted : Start \t Actual : Navigation\n",
      "Predicted : Previous \t Actual : Begin\n",
      "Predicted : Start \t Actual : Next\n",
      "Predicted : Start \t Actual : Start\n",
      "Predicted : Hello \t Actual : Begin\n",
      "Predicted : Choose \t Actual : Stop\n",
      "Predicted : Hello \t Actual : Next\n",
      "Predicted : Hello \t Actual : Next\n",
      "Predicted : Hello \t Actual : Begin\n",
      "Predicted : Web \t Actual : Web\n",
      "Predicted : Hello \t Actual : Hello\n",
      "Predicted : Choose \t Actual : Stop\n",
      "Predicted : Hello \t Actual : Start\n",
      "Predicted : Hello \t Actual : Hello\n",
      "Predicted : Hello \t Actual : Web\n",
      "Predicted : Hello \t Actual : Start\n",
      "Predicted : Previous \t Actual : Previous\n",
      "Predicted : Connection \t Actual : Connection\n",
      "Predicted : Choose \t Actual : Choose\n",
      "Predicted : Previous \t Actual : Previous\n",
      "Predicted : Hello \t Actual : Start\n",
      "Predicted : Choose \t Actual : Stop\n",
      "Predicted : Hello \t Actual : Begin\n",
      "Predicted : Hello \t Actual : Start\n",
      "Predicted : Hello \t Actual : Next\n",
      "Predicted : Start \t Actual : Next\n",
      "Predicted : Hello \t Actual : Begin\n",
      "Predicted : Previous \t Actual : Choose\n",
      "Predicted : Choose \t Actual : Choose\n",
      "Predicted : Hello \t Actual : Next\n",
      "Predicted : Start \t Actual : Navigation\n",
      "Predicted : Hello \t Actual : Begin\n",
      "Predicted : Web \t Actual : Web\n",
      "Predicted : Hello \t Actual : Previous\n",
      "Predicted : Start \t Actual : Begin\n",
      "Predicted : Hello \t Actual : Navigation\n",
      "Predicted : Connection \t Actual : Connection\n",
      "Predicted : Web \t Actual : Previous\n",
      "Predicted : Choose \t Actual : Choose\n",
      "Predicted : Hello \t Actual : Navigation\n",
      "Predicted : Previous \t Actual : Connection\n",
      "Predicted : Previous \t Actual : Previous\n",
      "Predicted : Web \t Actual : Choose\n",
      "Predicted : Hello \t Actual : Navigation\n",
      "Predicted : Start \t Actual : Start\n",
      "Predicted : Hello \t Actual : Previous\n",
      "Predicted : Choose \t Actual : Stop\n",
      "Predicted : Hello \t Actual : Hello\n",
      "Predicted : Hello \t Actual : Navigation\n",
      "Predicted : Hello \t Actual : Hello\n",
      "Predicted : Choose \t Actual : Choose\n",
      "Predicted : Hello \t Actual : Hello\n",
      "Predicted : Choose \t Actual : Choose\n",
      "Predicted : Connection \t Actual : Connection\n",
      "Predicted : Start \t Actual : Next\n",
      "Predicted : Choose \t Actual : Web\n",
      "Predicted : Web \t Actual : Web\n",
      "Predicted : Hello \t Actual : Start\n",
      "Predicted : Web \t Actual : Connection\n",
      "Predicted : Previous \t Actual : Web\n",
      "Predicted : Stop \t Actual : Stop\n",
      "Predicted : Stop \t Actual : Stop\n",
      "Predicted : Connection \t Actual : Connection\n",
      "Predicted : Previous \t Actual : Navigation\n",
      "Predicted : Hello \t Actual : Hello\n",
      "Predicted : Hello \t Actual : Next\n",
      "Predicted : Start \t Actual : Navigation\n",
      "Predicted : Hello \t Actual : Start\n",
      "Predicted : Hello \t Actual : Previous\n",
      "Predicted : Choose \t Actual : Choose\n",
      "Predicted : Hello \t Actual : Hello\n",
      "Predicted : Stop \t Actual : Stop\n",
      "Predicted : Hello \t Actual : Hello\n",
      "Predicted : Hello \t Actual : Navigation\n",
      "Predicted : Choose \t Actual : Connection\n",
      "Predicted : Hello \t Actual : Hello\n",
      "Predicted : Hello \t Actual : Begin\n",
      "Predicted : Choose \t Actual : Web\n",
      "Predicted : Start \t Actual : Start\n",
      "Predicted : Start \t Actual : Start\n",
      "Predicted : Hello \t Actual : Next\n",
      "Predicted : Hello \t Actual : Next\n",
      "Accuracy = 0.41 on completely unseen data\n"
     ]
    }
   ],
   "source": [
    "correct = 0\n",
    "for p, a in zip(predicted_words, actual_words):\n",
    "    if p == a:\n",
    "        correct += 1\n",
    "    print(f\"Predicted : {p} \\t Actual : {a}\")\n",
    "\n",
    "accuracy = correct/len(actual_words)\n",
    "print(f\"Accuracy = {accuracy} on completely unseen data\")"
   ]
  },
  {
   "cell_type": "code",
   "execution_count": 13,
   "metadata": {},
   "outputs": [
    {
     "name": "stdout",
     "output_type": "stream",
     "text": [
      "20\n",
      "20\n",
      "20\n",
      "20\n",
      "20\n",
      "20\n",
      "20\n",
      "20\n",
      "20\n",
      "20\n",
      "20\n",
      "20\n",
      "20\n",
      "20\n",
      "20\n",
      "20\n",
      "20\n",
      "20\n",
      "20\n",
      "20\n",
      "20\n"
     ]
    }
   ],
   "source": [
    "capture = cv2.VideoCapture(BASE_DIR+\"test_video/video.mp4\")\n",
    "\n",
    "frame_n = 0\n",
    "\n",
    "while True:\n",
    "    success, frame = capture.read()\n",
    "\n",
    "    if success:\n",
    "        cv2.imwrite(f\"{BASE_DIR}test_video/frames/{frame_n}.jpg\", frame)\n",
    "    else:\n",
    "        break\n",
    "\n",
    "    frame_n += 1\n",
    "\n",
    "capture.release()\n",
    "print(frame_n)"
   ]
  },
  {
   "cell_type": "code",
   "execution_count": 15,
   "metadata": {},
   "outputs": [],
   "source": [
    "\n",
    "for frame_i in range(frame_n):\n",
    "    detector = dlib.get_frontal_face_detector()\n",
    "    predictor = dlib.shape_predictor(BASE_DIR + 'shape_predictor_68_face_landmarks.dat')\n",
    "    # load the input image, resize it, and convert it to grayscale\n",
    "\n",
    "    image = cv2.imread(f'{BASE_DIR}test_video/frames/{frame_i}.jpg')\n",
    "    image = imutils.resize(image, width=500)\n",
    "    gray = cv2.cvtColor(image, cv2.COLOR_BGR2GRAY)\n",
    "\n",
    "    # detect faces in the grayscale image\n",
    "    rects = detector(gray, 1)\n",
    "    if len(rects) > 1:\n",
    "        print( \"ERROR: more than one face detected\")\n",
    "    elif len(rects) < 1:\n",
    "        print( \"ERROR: no faces detected\")\n",
    "    else:\n",
    "        # print(\"RECTS\", rects)\n",
    "        for (i, rect) in enumerate(rects):\n",
    "            shape = predictor(gray, rect)\n",
    "            shape = face_utils.shape_to_np(shape)\n",
    "            name, i, j = 'mouth', 48, 68\n",
    "            # clone = gray.copy()\n",
    "\n",
    "            (x, y, w, h) = cv2.boundingRect(np.array([shape[i:j]]))        \n",
    "            roi = gray[y:y+h, x:x+w]\n",
    "            roi = imutils.resize(roi, width = 250, inter=cv2.INTER_CUBIC)        \n",
    "            #print('cropped/' + write_img_path)\n",
    "            cv2.imwrite(f'{BASE_DIR}test_video/cropped/{frame_i}.jpg', roi)"
   ]
  },
  {
   "cell_type": "code",
   "execution_count": 96,
   "metadata": {},
   "outputs": [
    {
     "name": "stderr",
     "output_type": "stream",
     "text": [
      "/tmp/ipykernel_677/4275746742.py:3: DeprecationWarning: Starting with ImageIO v3 the behavior of this function will switch to that of iio.v3.imread. To keep the current behavior (and make this warning disappear) use `import imageio.v2 as imageio` or call `imageio.v2.imread` directly.\n",
      "  image = imageio.imread(f'{BASE_DIR}test_video/cropped/{frame_i}.jpg')\n"
     ]
    }
   ],
   "source": [
    "sequence = []\n",
    "for frame_i in range(frame_n):\n",
    "    image = imageio.imread(f'{BASE_DIR}test_video/cropped/{frame_i}.jpg')\n",
    "    image = resize(image, (MAX_WIDTH, MAX_HEIGHT))\n",
    "    image = 255 * image\n",
    "    # Convert to integer data type pixels.\n",
    "    image = image.astype(np.uint8)\n",
    "    sequence.append(image)     \n"
   ]
  },
  {
   "cell_type": "code",
   "execution_count": 97,
   "metadata": {},
   "outputs": [
    {
     "data": {
      "text/plain": [
       "(22, 100, 100)"
      ]
     },
     "execution_count": 97,
     "metadata": {},
     "output_type": "execute_result"
    }
   ],
   "source": [
    "sequence = np.array(sequence)\n",
    "sequence = np.pad(sequence, [(0, 2), (0, 0), (0, 0)], mode='constant')\n",
    "sequence.shape"
   ]
  },
  {
   "cell_type": "code",
   "execution_count": 98,
   "metadata": {},
   "outputs": [
    {
     "name": "stderr",
     "output_type": "stream",
     "text": [
      "/tmp/ipykernel_677/3096950758.py:3: RuntimeWarning: invalid value encountered in divide\n",
      "  sequence = (sequence - v_min)/(v_max - v_min)\n"
     ]
    },
    {
     "data": {
      "text/plain": [
       "(1, 22, 100, 100, 1)"
      ]
     },
     "execution_count": 98,
     "metadata": {},
     "output_type": "execute_result"
    }
   ],
   "source": [
    "v_min = sequence.min(axis=2, keepdims=True)\n",
    "v_max = sequence.max(axis=2, keepdims=True)\n",
    "sequence = (sequence - v_min)/(v_max - v_min)\n",
    "sequence = np.nan_to_num(sequence)\n",
    "sequence = np.expand_dims(sequence, axis=(0,4))\n",
    "sequence.shape"
   ]
  },
  {
   "cell_type": "code",
   "execution_count": 99,
   "metadata": {},
   "outputs": [
    {
     "name": "stdout",
     "output_type": "stream",
     "text": [
      "1/1 [==============================] - 0s 431ms/step\n"
     ]
    }
   ],
   "source": [
    "pred = model.predict(sequence)"
   ]
  },
  {
   "cell_type": "code",
   "execution_count": 101,
   "metadata": {},
   "outputs": [
    {
     "name": "stdout",
     "output_type": "stream",
     "text": [
      "Choose\n"
     ]
    }
   ],
   "source": [
    "print(words[np.argmax(pred)])"
   ]
  },
  {
   "cell_type": "code",
   "execution_count": null,
   "metadata": {},
   "outputs": [],
   "source": []
  }
 ],
 "metadata": {
  "kernelspec": {
   "display_name": "Python 3",
   "language": "python",
   "name": "python3"
  },
  "language_info": {
   "codemirror_mode": {
    "name": "ipython",
    "version": 3
   },
   "file_extension": ".py",
   "mimetype": "text/x-python",
   "name": "python",
   "nbconvert_exporter": "python",
   "pygments_lexer": "ipython3",
   "version": "3.11.4"
  }
 },
 "nbformat": 4,
 "nbformat_minor": 2
}
